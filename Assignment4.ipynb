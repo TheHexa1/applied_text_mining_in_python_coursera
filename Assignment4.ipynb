{
  "nbformat": 4,
  "nbformat_minor": 0,
  "metadata": {
    "colab": {
      "name": "Assignment4.ipynb",
      "version": "0.3.2",
      "provenance": [],
      "collapsed_sections": [],
      "toc_visible": true
    },
    "kernelspec": {
      "display_name": "Python 3",
      "language": "python",
      "name": "python3"
    }
  },
  "cells": [
    {
      "metadata": {
        "id": "CmO42Yjhtruj",
        "colab_type": "text"
      },
      "cell_type": "markdown",
      "source": [
        "---\n",
        "\n",
        "_You are currently looking at **version 1.0** of this notebook. To download notebooks and datafiles, as well as get help on Jupyter notebooks in the Coursera platform, visit the [Jupyter Notebook FAQ](https://www.coursera.org/learn/python-text-mining/resources/d9pwm) course resource._\n",
        "\n",
        "---"
      ]
    },
    {
      "metadata": {
        "id": "ckcXd5UOtrup",
        "colab_type": "text"
      },
      "cell_type": "markdown",
      "source": [
        "# Assignment 4 - Document Similarity & Topic Modelling"
      ]
    },
    {
      "metadata": {
        "id": "Skw_XOuwtru7",
        "colab_type": "text"
      },
      "cell_type": "markdown",
      "source": [
        "## Part 1 - Document Similarity\n",
        "\n",
        "For the first part of this assignment, you will complete the functions `doc_to_synsets` and `similarity_score` which will be used by `document_path_similarity` to find the path similarity between two documents.\n",
        "\n",
        "The following functions are provided:\n",
        "* **`convert_tag:`** converts the tag given by `nltk.pos_tag` to a tag used by `wordnet.synsets`. You will need to use this function in `doc_to_synsets`.\n",
        "* **`document_path_similarity:`** computes the symmetrical path similarity between two documents by finding the synsets in each document using `doc_to_synsets`, then computing similarities using `similarity_score`.\n",
        "\n",
        "You will need to finish writing the following functions:\n",
        "* **`doc_to_synsets:`** returns a list of synsets in document. This function should first tokenize and part of speech tag the document using `nltk.word_tokenize` and `nltk.pos_tag`. Then it should find each tokens corresponding synset using `wn.synsets(token, wordnet_tag)`. The first synset match should be used. If there is no match, that token is skipped.\n",
        "* **`similarity_score:`** returns the normalized similarity score of a list of synsets (s1) onto a second list of synsets (s2). For each synset in s1, find the synset in s2 with the largest similarity value. Sum all of the largest similarity values together and normalize this value by dividing it by the number of largest similarity values found. Be careful with data types, which should be floats. Missing values should be ignored.\n",
        "\n",
        "Once `doc_to_synsets` and `similarity_score` have been completed, submit to the autograder which will run `test_document_path_similarity` to test that these functions are running correctly. \n",
        "\n",
        "*Do not modify the functions `convert_tag`, `document_path_similarity`, and `test_document_path_similarity`.*"
      ]
    },
    {
      "metadata": {
        "id": "Qe9wvSGttrvA",
        "colab_type": "code",
        "colab": {
          "base_uri": "https://localhost:8080/",
          "height": 51
        },
        "outputId": "85cd5390-cef4-45cf-a08d-ed45ca30a368"
      },
      "cell_type": "code",
      "source": [
        "import numpy as np\n",
        "import nltk\n",
        "from nltk.corpus import wordnet as wn\n",
        "import pandas as pd\n",
        "nltk.download('wordnet')\n",
        "\n",
        "\n",
        "def convert_tag(tag):\n",
        "    \"\"\"Convert the tag given by nltk.pos_tag to the tag used by wordnet.synsets\"\"\"\n",
        "    \n",
        "    tag_dict = {'N': 'n', 'J': 'a', 'R': 'r', 'V': 'v'}\n",
        "    try:\n",
        "        return tag_dict[tag[0]]\n",
        "    except KeyError:\n",
        "        return None\n",
        "\n",
        "\n",
        "def doc_to_synsets(doc):\n",
        "    \"\"\"\n",
        "    Returns a list of synsets in document.\n",
        "\n",
        "    Tokenizes and tags the words in the document doc.\n",
        "    Then finds the first synset for each word/tag combination.\n",
        "    If a synset is not found for that combination it is skipped.\n",
        "\n",
        "    Args:\n",
        "        doc: string to be converted\n",
        "\n",
        "    Returns:\n",
        "        list of synsets\n",
        "\n",
        "    Example:\n",
        "        doc_to_synsets('Fish are nvqjp friends.')\n",
        "        Out: [Synset('fish.n.01'), Synset('be.v.01'), Synset('friend.n.01')]    \"\"\"    \n",
        "\n",
        "    tokens = nltk.word_tokenize(doc)\n",
        "    pos_tags = nltk.pos_tag(tokens)\n",
        "    ls = []\n",
        "    for n in range(len(tokens)):\n",
        "      if len(wn.synsets(tokens[n], convert_tag(pos_tags[n]))) != 0:\n",
        "        ls.append(wn.synsets(tokens[n], convert_tag(pos_tags[n]))[0])\n",
        "    \n",
        "    return ls\n",
        "\n",
        "\n",
        "def similarity_score(s1, s2):\n",
        "    \"\"\"\n",
        "    Calculate the normalized similarity score of s1 onto s2\n",
        "\n",
        "    For each synset in s1, finds the synset in s2 with the largest similarity value.\n",
        "    Sum of all of the largest similarity values and normalize this value by dividing it by the\n",
        "    number of largest similarity values found.\n",
        "\n",
        "    Args:\n",
        "        s1, s2: list of synsets from doc_to_synsets\n",
        "\n",
        "    Returns:\n",
        "        normalized similarity score of s1 onto s2\n",
        "\n",
        "    Example:\n",
        "        synsets1 = doc_to_synsets('I like cats')\n",
        "        synsets2 = doc_to_synsets('I like dogs')\n",
        "        similarity_score(synsets1, synsets2)\n",
        "        Out: 0.73333333333333339\n",
        "    \"\"\"       \n",
        "    ls= []\n",
        "    for i in range(len(s1)):\n",
        "      m = 0\n",
        "      for j in range(len(s2)):\n",
        "        if s1[i].path_similarity(s2[j]) is not None and s1[i].path_similarity(s2[j]) > m:\n",
        "          m = s1[i].path_similarity(s2[j])\n",
        "      ls.append(m)     \n",
        "    \n",
        "    return (sum(ls)/len(s1))\n",
        "\n",
        "\n",
        "def document_path_similarity(doc1, doc2):\n",
        "    \"\"\"Finds the symmetrical similarity between doc1 and doc2\"\"\"\n",
        "\n",
        "    synsets1 = doc_to_synsets(doc1)\n",
        "    synsets2 = doc_to_synsets(doc2)\n",
        "\n",
        "    return (similarity_score(synsets1, synsets2) + similarity_score(synsets2, synsets1)) / 2"
      ],
      "execution_count": 35,
      "outputs": [
        {
          "output_type": "stream",
          "text": [
            "[nltk_data] Downloading package wordnet to /root/nltk_data...\n",
            "[nltk_data]   Package wordnet is already up-to-date!\n"
          ],
          "name": "stdout"
        }
      ]
    },
    {
      "metadata": {
        "id": "8qmZgdpdtrvM",
        "colab_type": "text"
      },
      "cell_type": "markdown",
      "source": [
        "### test_document_path_similarity\n",
        "\n",
        "Use this function to check if doc_to_synsets and similarity_score are correct.\n",
        "\n",
        "*This function should return the similarity score as a float.*"
      ]
    },
    {
      "metadata": {
        "id": "vT2f6j4qtrvQ",
        "colab_type": "code",
        "colab": {
          "base_uri": "https://localhost:8080/",
          "height": 34
        },
        "outputId": "5504e987-7392-4e99-93e1-de008c2b0ff5"
      },
      "cell_type": "code",
      "source": [
        "def test_document_path_similarity():\n",
        "    doc1 = 'This is a function to test document_path_similarity.'\n",
        "    doc2 = 'Use this function to see if your code in doc_to_synsets \\\n",
        "    and similarity_score is correct!'\n",
        "    return document_path_similarity(doc1, doc2)\n",
        "test_document_path_similarity()"
      ],
      "execution_count": 36,
      "outputs": [
        {
          "output_type": "execute_result",
          "data": {
            "text/plain": [
              "0.4895004796790511"
            ]
          },
          "metadata": {
            "tags": []
          },
          "execution_count": 36
        }
      ]
    },
    {
      "metadata": {
        "id": "cbSROMoAtrvw",
        "colab_type": "text"
      },
      "cell_type": "markdown",
      "source": [
        "<br>\n",
        "___\n",
        "`paraphrases` is a DataFrame which contains the following columns: `Quality`, `D1`, and `D2`.\n",
        "\n",
        "`Quality` is an indicator variable which indicates if the two documents `D1` and `D2` are paraphrases of one another (1 for paraphrase, 0 for not paraphrase)."
      ]
    },
    {
      "metadata": {
        "id": "Cn_IjfiStrvz",
        "colab_type": "code",
        "colab": {
          "base_uri": "https://localhost:8080/",
          "height": 204
        },
        "outputId": "a4749338-727d-4814-9559-865bf23cf187"
      },
      "cell_type": "code",
      "source": [
        "# Use this dataframe for questions most_similar_docs and label_accuracy\n",
        "paraphrases = pd.read_csv('paraphrases.csv')\n",
        "paraphrases.head()"
      ],
      "execution_count": 39,
      "outputs": [
        {
          "output_type": "execute_result",
          "data": {
            "text/html": [
              "<div>\n",
              "<style scoped>\n",
              "    .dataframe tbody tr th:only-of-type {\n",
              "        vertical-align: middle;\n",
              "    }\n",
              "\n",
              "    .dataframe tbody tr th {\n",
              "        vertical-align: top;\n",
              "    }\n",
              "\n",
              "    .dataframe thead th {\n",
              "        text-align: right;\n",
              "    }\n",
              "</style>\n",
              "<table border=\"1\" class=\"dataframe\">\n",
              "  <thead>\n",
              "    <tr style=\"text-align: right;\">\n",
              "      <th></th>\n",
              "      <th>Quality</th>\n",
              "      <th>D1</th>\n",
              "      <th>D2</th>\n",
              "    </tr>\n",
              "  </thead>\n",
              "  <tbody>\n",
              "    <tr>\n",
              "      <th>0</th>\n",
              "      <td>1</td>\n",
              "      <td>Ms Stewart, the chief executive, was not expec...</td>\n",
              "      <td>Ms Stewart, 61, its chief executive officer an...</td>\n",
              "    </tr>\n",
              "    <tr>\n",
              "      <th>1</th>\n",
              "      <td>1</td>\n",
              "      <td>After more than two years' detention under the...</td>\n",
              "      <td>After more than two years in detention by the ...</td>\n",
              "    </tr>\n",
              "    <tr>\n",
              "      <th>2</th>\n",
              "      <td>1</td>\n",
              "      <td>\"It still remains to be seen whether the reven...</td>\n",
              "      <td>\"It remains to be seen whether the revenue rec...</td>\n",
              "    </tr>\n",
              "    <tr>\n",
              "      <th>3</th>\n",
              "      <td>0</td>\n",
              "      <td>And it's going to be a wild ride,\" said Allan ...</td>\n",
              "      <td>Now the rest is just mechanical,\" said Allan H...</td>\n",
              "    </tr>\n",
              "    <tr>\n",
              "      <th>4</th>\n",
              "      <td>1</td>\n",
              "      <td>The cards are issued by Mexico's consulates to...</td>\n",
              "      <td>The card is issued by Mexico's consulates to i...</td>\n",
              "    </tr>\n",
              "  </tbody>\n",
              "</table>\n",
              "</div>"
            ],
            "text/plain": [
              "   Quality                                                 D1  \\\n",
              "0        1  Ms Stewart, the chief executive, was not expec...   \n",
              "1        1  After more than two years' detention under the...   \n",
              "2        1  \"It still remains to be seen whether the reven...   \n",
              "3        0  And it's going to be a wild ride,\" said Allan ...   \n",
              "4        1  The cards are issued by Mexico's consulates to...   \n",
              "\n",
              "                                                  D2  \n",
              "0  Ms Stewart, 61, its chief executive officer an...  \n",
              "1  After more than two years in detention by the ...  \n",
              "2  \"It remains to be seen whether the revenue rec...  \n",
              "3  Now the rest is just mechanical,\" said Allan H...  \n",
              "4  The card is issued by Mexico's consulates to i...  "
            ]
          },
          "metadata": {
            "tags": []
          },
          "execution_count": 39
        }
      ]
    },
    {
      "metadata": {
        "id": "cdXze960trv7",
        "colab_type": "text"
      },
      "cell_type": "markdown",
      "source": [
        "___\n",
        "\n",
        "### most_similar_docs\n",
        "\n",
        "Using `document_path_similarity`, find the pair of documents in paraphrases which has the maximum similarity score.\n",
        "\n",
        "*This function should return a tuple `(D1, D2, similarity_score)`*"
      ]
    },
    {
      "metadata": {
        "id": "9EV7eL80trwA",
        "colab_type": "code",
        "colab": {}
      },
      "cell_type": "code",
      "source": [
        "def most_similar_docs():\n",
        "    \n",
        "    t = ()\n",
        "    for i in range(len(paraphrases['D1'])):\n",
        "      m = 0\n",
        "      for j in range(len(paraphrases['D2'])):\n",
        "        sim_score = document_path_similarity(paraphrases['D1'][i], paraphrases['D2'][j])\n",
        "        if sim_score > m:\n",
        "          m = sim_score\n",
        "          t = (paraphrases['D1'][i], paraphrases['D2'][j], m)    \n",
        "    \n",
        "    return t"
      ],
      "execution_count": 0,
      "outputs": []
    },
    {
      "metadata": {
        "id": "tYAe0ahstrwK",
        "colab_type": "text"
      },
      "cell_type": "markdown",
      "source": [
        "### label_accuracy\n",
        "\n",
        "Provide labels for the twenty pairs of documents by computing the similarity for each pair using `document_path_similarity`. Let the classifier rule be that if the score is greater than 0.75, label is paraphrase (1), else label is not paraphrase (0). Report accuracy of the classifier using scikit-learn's accuracy_score.\n",
        "\n",
        "*This function should return a float.*"
      ]
    },
    {
      "metadata": {
        "id": "Ts1XxohJtrwN",
        "colab_type": "code",
        "colab": {
          "base_uri": "https://localhost:8080/",
          "height": 34
        },
        "outputId": "1be8af0c-feee-4c00-8345-d0e845c8ed38"
      },
      "cell_type": "code",
      "source": [
        "def label_accuracy():\n",
        "    from sklearn.metrics import accuracy_score\n",
        "\n",
        "    paraphrases['label'] = [1 if document_path_similarity(paraphrases['D1'][i], paraphrases['D2'][i]) > 0.75 else 0 for i in range(len(paraphrases))]\n",
        "    \n",
        "#     print(paraphrases.head())\n",
        "    return accuracy_score(paraphrases['Quality'], paraphrases['label'])\n",
        "  \n",
        "label_accuracy()"
      ],
      "execution_count": 47,
      "outputs": [
        {
          "output_type": "execute_result",
          "data": {
            "text/plain": [
              "0.7"
            ]
          },
          "metadata": {
            "tags": []
          },
          "execution_count": 47
        }
      ]
    },
    {
      "metadata": {
        "id": "CXN_120rtrwV",
        "colab_type": "text"
      },
      "cell_type": "markdown",
      "source": [
        "## Part 2 - Topic Modelling\n",
        "\n",
        "For the second part of this assignment, you will use Gensim's LDA (Latent Dirichlet Allocation) model to model topics in `newsgroup_data`. You will first need to finish the code in the cell below by using gensim.models.ldamodel.LdaModel constructor to estimate LDA model parameters on the corpus, and save to the variable `ldamodel`. Extract 10 topics using `corpus` and `id_map`, and with `passes=25` and `random_state=34`."
      ]
    },
    {
      "metadata": {
        "id": "56As-yfXtrwX",
        "colab_type": "code",
        "colab": {}
      },
      "cell_type": "code",
      "source": [
        "import pickle\n",
        "import gensim\n",
        "from gensim.models.ldamodel import LdaModel\n",
        "from sklearn.feature_extraction.text import CountVectorizer\n",
        "\n",
        "# Load the list of documents\n",
        "with open('newsgroups', 'rb') as f:\n",
        "    newsgroup_data = pickle.load(f)\n",
        "\n",
        "# Use CountVectorizor to find three letter tokens, remove stop_words, \n",
        "# remove tokens that don't appear in at least 20 documents,\n",
        "# remove tokens that appear in more than 20% of the documents\n",
        "vect = CountVectorizer(min_df=20, max_df=0.2, stop_words='english', \n",
        "                       token_pattern='(?u)\\\\b\\\\w\\\\w\\\\w+\\\\b')\n",
        "# Fit and transform\n",
        "X = vect.fit_transform(newsgroup_data)\n",
        "\n",
        "# Convert sparse matrix to gensim corpus.\n",
        "corpus = gensim.matutils.Sparse2Corpus(X, documents_columns=False)\n",
        "\n",
        "# Mapping from word IDs to words (To be used in LdaModel's id2word parameter)\n",
        "id_map = dict((v, k) for k, v in vect.vocabulary_.items())"
      ],
      "execution_count": 0,
      "outputs": []
    },
    {
      "metadata": {
        "id": "FUjge4KDtrwk",
        "colab_type": "code",
        "colab": {
          "base_uri": "https://localhost:8080/",
          "height": 34
        },
        "outputId": "95741881-f159-4046-9268-d11a1fba7d22"
      },
      "cell_type": "code",
      "source": [
        "# Use the gensim.models.ldamodel.LdaModel constructor to estimate \n",
        "# LDA model parameters on the corpus, and save to the variable `ldamodel`\n",
        "\n",
        "# Your code here:\n",
        "ldamodel = LdaModel(corpus, num_topics=10, passes=25, random_state=34, id2word=id_map)"
      ],
      "execution_count": 51,
      "outputs": [
        {
          "output_type": "stream",
          "text": [
            "LdaModel(num_terms=901, num_topics=10, decay=0.5, chunksize=2000)\n"
          ],
          "name": "stdout"
        }
      ]
    },
    {
      "metadata": {
        "id": "rjUvZqyAtrwx",
        "colab_type": "text"
      },
      "cell_type": "markdown",
      "source": [
        "### lda_topics\n",
        "\n",
        "Using `ldamodel`, find a list of the 10 topics and the most significant 10 words in each topic. This should be structured as a list of 10 tuples where each tuple takes on the form:\n",
        "\n",
        "`(9, '0.068*\"space\" + 0.036*\"nasa\" + 0.021*\"science\" + 0.020*\"edu\" + 0.019*\"data\" + 0.017*\"shuttle\" + 0.015*\"launch\" + 0.015*\"available\" + 0.014*\"center\" + 0.014*\"sci\"')`\n",
        "\n",
        "for example.\n",
        "\n",
        "*This function should return a list of tuples.*"
      ]
    },
    {
      "metadata": {
        "id": "qWpjEHO0trwz",
        "colab_type": "code",
        "colab": {
          "base_uri": "https://localhost:8080/",
          "height": 377
        },
        "outputId": "cb2edd69-14c0-433e-d22b-02a67c9b5d75"
      },
      "cell_type": "code",
      "source": [
        "def lda_topics():    \n",
        "    \n",
        "    return ldamodel.print_topics()\n",
        "  \n",
        "lda_topics()"
      ],
      "execution_count": 66,
      "outputs": [
        {
          "output_type": "execute_result",
          "data": {
            "text/plain": [
              "[(0,\n",
              "  '0.056*\"edu\" + 0.043*\"com\" + 0.033*\"thanks\" + 0.022*\"mail\" + 0.021*\"know\" + 0.020*\"does\" + 0.014*\"info\" + 0.012*\"monitor\" + 0.010*\"looking\" + 0.010*\"don\"'),\n",
              " (1,\n",
              "  '0.024*\"ground\" + 0.018*\"current\" + 0.018*\"just\" + 0.013*\"want\" + 0.013*\"use\" + 0.011*\"using\" + 0.011*\"used\" + 0.010*\"power\" + 0.010*\"speed\" + 0.010*\"output\"'),\n",
              " (2,\n",
              "  '0.061*\"drive\" + 0.042*\"disk\" + 0.033*\"scsi\" + 0.030*\"drives\" + 0.028*\"hard\" + 0.028*\"controller\" + 0.027*\"card\" + 0.020*\"rom\" + 0.018*\"floppy\" + 0.017*\"bus\"'),\n",
              " (3,\n",
              "  '0.023*\"time\" + 0.015*\"atheism\" + 0.014*\"list\" + 0.013*\"left\" + 0.012*\"alt\" + 0.012*\"faq\" + 0.012*\"probably\" + 0.011*\"know\" + 0.011*\"send\" + 0.010*\"months\"'),\n",
              " (4,\n",
              "  '0.025*\"car\" + 0.016*\"just\" + 0.014*\"don\" + 0.014*\"bike\" + 0.012*\"good\" + 0.011*\"new\" + 0.011*\"think\" + 0.010*\"year\" + 0.010*\"cars\" + 0.010*\"time\"'),\n",
              " (5,\n",
              "  '0.030*\"game\" + 0.027*\"team\" + 0.023*\"year\" + 0.017*\"games\" + 0.016*\"play\" + 0.012*\"season\" + 0.012*\"players\" + 0.012*\"win\" + 0.011*\"hockey\" + 0.011*\"good\"'),\n",
              " (6,\n",
              "  '0.017*\"information\" + 0.014*\"help\" + 0.014*\"medical\" + 0.012*\"new\" + 0.012*\"use\" + 0.012*\"000\" + 0.012*\"research\" + 0.011*\"university\" + 0.010*\"number\" + 0.010*\"program\"'),\n",
              " (7,\n",
              "  '0.022*\"don\" + 0.021*\"people\" + 0.018*\"think\" + 0.017*\"just\" + 0.012*\"say\" + 0.011*\"know\" + 0.011*\"does\" + 0.011*\"good\" + 0.010*\"god\" + 0.009*\"way\"'),\n",
              " (8,\n",
              "  '0.034*\"use\" + 0.023*\"apple\" + 0.020*\"power\" + 0.016*\"time\" + 0.015*\"data\" + 0.015*\"software\" + 0.012*\"pin\" + 0.012*\"memory\" + 0.012*\"simms\" + 0.012*\"port\"'),\n",
              " (9,\n",
              "  '0.068*\"space\" + 0.036*\"nasa\" + 0.021*\"science\" + 0.020*\"edu\" + 0.019*\"data\" + 0.017*\"shuttle\" + 0.015*\"launch\" + 0.015*\"available\" + 0.014*\"center\" + 0.014*\"sci\"')]"
            ]
          },
          "metadata": {
            "tags": []
          },
          "execution_count": 66
        }
      ]
    },
    {
      "metadata": {
        "id": "5NwjylTGtrw5",
        "colab_type": "text"
      },
      "cell_type": "markdown",
      "source": [
        "### topic_distribution\n",
        "\n",
        "For the new document `new_doc`, find the topic distribution. Remember to use vect.transform on the the new doc, and Sparse2Corpus to convert the sparse matrix to gensim corpus.\n",
        "\n",
        "*This function should return a list of tuples, where each tuple is `(#topic, probability)`*"
      ]
    },
    {
      "metadata": {
        "id": "G1CiB84Vtrw7",
        "colab_type": "code",
        "colab": {}
      },
      "cell_type": "code",
      "source": [
        "new_doc = [\"\\n\\nIt's my understanding that the freezing will start to occur because \\\n",
        "of the\\ngrowing distance of Pluto and Charon from the Sun, due to it's\\nelliptical orbit. \\\n",
        "It is not due to shadowing effects. \\n\\n\\nPluto can shadow Charon, and vice-versa.\\n\\nGeorge \\\n",
        "Krumins\\n-- \"]"
      ],
      "execution_count": 0,
      "outputs": []
    },
    {
      "metadata": {
        "id": "ywfYggAxtrxC",
        "colab_type": "code",
        "colab": {
          "base_uri": "https://localhost:8080/",
          "height": 34
        },
        "outputId": "020e34c8-7fa8-4d06-be5f-3ed22b9eae70"
      },
      "cell_type": "code",
      "source": [
        "def topic_distribution():\n",
        "  \n",
        "    vect = CountVectorizer(stop_words='english', \n",
        "                           token_pattern='(?u)\\\\b\\\\w\\\\w\\\\w+\\\\b')\n",
        "    \n",
        "    # Fit and transform\n",
        "    X = vect.fit_transform(new_doc)\n",
        "\n",
        "    # Convert sparse matrix to gensim corpus.\n",
        "    corpus = gensim.matutils.Sparse2Corpus(X, documents_columns=False)\n",
        "    \n",
        "    return ldamodel.get_document_topics(corpus)\n",
        "  \n",
        "topic_distribution()"
      ],
      "execution_count": 70,
      "outputs": [
        {
          "output_type": "execute_result",
          "data": {
            "text/plain": [
              "<gensim.interfaces.TransformedCorpus at 0x7f65c16f9d68>"
            ]
          },
          "metadata": {
            "tags": []
          },
          "execution_count": 70
        }
      ]
    },
    {
      "metadata": {
        "id": "OnDrDF5ltrxJ",
        "colab_type": "text"
      },
      "cell_type": "markdown",
      "source": [
        "### topic_names\n",
        "\n",
        "From the list of the following given topics, assign topic names to the topics you found. If none of these names best matches the topics you found, create a new 1-3 word \"title\" for the topic.\n",
        "\n",
        "Topics: Health, Science, Automobiles, Politics, Government, Travel, Computers & IT, Sports, Business, Society & Lifestyle, Religion, Education.\n",
        "\n",
        "*This function should return a list of 10 strings.*"
      ]
    },
    {
      "metadata": {
        "id": "zN4f8tnDtrxL",
        "colab_type": "code",
        "colab": {}
      },
      "cell_type": "code",
      "source": [
        "def topic_names():\n",
        "        \n",
        "    return ['Automobiles', 'Health', 'Science',\n",
        "            'Politics', 'Sports', 'Business',\n",
        "            'Society & Lifestyle', 'Religion',\n",
        "            'Education', 'Computers & IT']"
      ],
      "execution_count": 0,
      "outputs": []
    }
  ]
}