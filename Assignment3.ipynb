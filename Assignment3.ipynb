{
  "nbformat": 4,
  "nbformat_minor": 0,
  "metadata": {
    "colab": {
      "name": "Assignment+3_0.ipynb",
      "version": "0.3.2",
      "provenance": [],
      "collapsed_sections": [],
      "toc_visible": true
    },
    "kernelspec": {
      "display_name": "Python 3",
      "language": "python",
      "name": "python3"
    }
  },
  "cells": [
    {
      "metadata": {
        "id": "ZtAJ6DuDYcli",
        "colab_type": "text"
      },
      "cell_type": "markdown",
      "source": [
        "---\n",
        "\n",
        "_You are currently looking at **version 1.1** of this notebook. To download notebooks and datafiles, as well as get help on Jupyter notebooks in the Coursera platform, visit the [Jupyter Notebook FAQ](https://www.coursera.org/learn/python-text-mining/resources/d9pwm) course resource._\n",
        "\n",
        "---"
      ]
    },
    {
      "metadata": {
        "id": "BFR_MFoSYcll",
        "colab_type": "text"
      },
      "cell_type": "markdown",
      "source": [
        "# Assignment 3\n",
        "\n",
        "In this assignment you will explore text message data and create models to predict if a message is spam or not. "
      ]
    },
    {
      "metadata": {
        "id": "anYkKiJcYclv",
        "colab_type": "code",
        "colab": {
          "base_uri": "https://localhost:8080/",
          "height": 359
        },
        "outputId": "94dcc06b-9aeb-461e-8103-81aec9bbf5a1"
      },
      "cell_type": "code",
      "source": [
        "import pandas as pd\n",
        "import numpy as np\n",
        "import nltk\n",
        "\n",
        "spam_data = pd.read_csv('spam.csv')\n",
        "\n",
        "spam_data['target'] = np.where(spam_data['target']=='spam',1,0) #just like \"20 > 3 ? true : false\" in JAVA\n",
        "spam_data.head(10)"
      ],
      "execution_count": 42,
      "outputs": [
        {
          "output_type": "execute_result",
          "data": {
            "text/html": [
              "<div>\n",
              "<style scoped>\n",
              "    .dataframe tbody tr th:only-of-type {\n",
              "        vertical-align: middle;\n",
              "    }\n",
              "\n",
              "    .dataframe tbody tr th {\n",
              "        vertical-align: top;\n",
              "    }\n",
              "\n",
              "    .dataframe thead th {\n",
              "        text-align: right;\n",
              "    }\n",
              "</style>\n",
              "<table border=\"1\" class=\"dataframe\">\n",
              "  <thead>\n",
              "    <tr style=\"text-align: right;\">\n",
              "      <th></th>\n",
              "      <th>text</th>\n",
              "      <th>target</th>\n",
              "    </tr>\n",
              "  </thead>\n",
              "  <tbody>\n",
              "    <tr>\n",
              "      <th>0</th>\n",
              "      <td>Go until jurong point, crazy.. Available only ...</td>\n",
              "      <td>0</td>\n",
              "    </tr>\n",
              "    <tr>\n",
              "      <th>1</th>\n",
              "      <td>Ok lar... Joking wif u oni...</td>\n",
              "      <td>0</td>\n",
              "    </tr>\n",
              "    <tr>\n",
              "      <th>2</th>\n",
              "      <td>Free entry in 2 a wkly comp to win FA Cup fina...</td>\n",
              "      <td>1</td>\n",
              "    </tr>\n",
              "    <tr>\n",
              "      <th>3</th>\n",
              "      <td>U dun say so early hor... U c already then say...</td>\n",
              "      <td>0</td>\n",
              "    </tr>\n",
              "    <tr>\n",
              "      <th>4</th>\n",
              "      <td>Nah I don't think he goes to usf, he lives aro...</td>\n",
              "      <td>0</td>\n",
              "    </tr>\n",
              "    <tr>\n",
              "      <th>5</th>\n",
              "      <td>FreeMsg Hey there darling it's been 3 week's n...</td>\n",
              "      <td>1</td>\n",
              "    </tr>\n",
              "    <tr>\n",
              "      <th>6</th>\n",
              "      <td>Even my brother is not like to speak with me. ...</td>\n",
              "      <td>0</td>\n",
              "    </tr>\n",
              "    <tr>\n",
              "      <th>7</th>\n",
              "      <td>As per your request 'Melle Melle (Oru Minnamin...</td>\n",
              "      <td>0</td>\n",
              "    </tr>\n",
              "    <tr>\n",
              "      <th>8</th>\n",
              "      <td>WINNER!! As a valued network customer you have...</td>\n",
              "      <td>1</td>\n",
              "    </tr>\n",
              "    <tr>\n",
              "      <th>9</th>\n",
              "      <td>Had your mobile 11 months or more? U R entitle...</td>\n",
              "      <td>1</td>\n",
              "    </tr>\n",
              "  </tbody>\n",
              "</table>\n",
              "</div>"
            ],
            "text/plain": [
              "                                                text  target\n",
              "0  Go until jurong point, crazy.. Available only ...       0\n",
              "1                      Ok lar... Joking wif u oni...       0\n",
              "2  Free entry in 2 a wkly comp to win FA Cup fina...       1\n",
              "3  U dun say so early hor... U c already then say...       0\n",
              "4  Nah I don't think he goes to usf, he lives aro...       0\n",
              "5  FreeMsg Hey there darling it's been 3 week's n...       1\n",
              "6  Even my brother is not like to speak with me. ...       0\n",
              "7  As per your request 'Melle Melle (Oru Minnamin...       0\n",
              "8  WINNER!! As a valued network customer you have...       1\n",
              "9  Had your mobile 11 months or more? U R entitle...       1"
            ]
          },
          "metadata": {
            "tags": []
          },
          "execution_count": 42
        }
      ]
    },
    {
      "metadata": {
        "id": "pFPVGsE2YcmW",
        "colab_type": "code",
        "colab": {}
      },
      "cell_type": "code",
      "source": [
        "from sklearn.model_selection import train_test_split\n",
        "\n",
        "\n",
        "X_train, X_test, y_train, y_test = train_test_split(spam_data['text'], \n",
        "                                                    spam_data['target'], \n",
        "                                                    random_state=0)"
      ],
      "execution_count": 0,
      "outputs": []
    },
    {
      "metadata": {
        "id": "evutsmd0Ycmc",
        "colab_type": "text"
      },
      "cell_type": "markdown",
      "source": [
        "### Question 1\n",
        "What percentage of the documents in `spam_data` are spam?\n",
        "\n",
        "*This function should return a float, the percent value (i.e. $ratio * 100$).*"
      ]
    },
    {
      "metadata": {
        "id": "_QCESu0gYcme",
        "colab_type": "code",
        "colab": {}
      },
      "cell_type": "code",
      "source": [
        "def answer_one():\n",
        "    \n",
        "    return (len(spam_data[spam_data['target']==1])/len(spam_data))*100"
      ],
      "execution_count": 0,
      "outputs": []
    },
    {
      "metadata": {
        "id": "PYOjOdcwYcmj",
        "colab_type": "code",
        "colab": {
          "base_uri": "https://localhost:8080/",
          "height": 34
        },
        "outputId": "7c88830c-4aac-44cc-a1f9-d5715f984650"
      },
      "cell_type": "code",
      "source": [
        "answer_one()"
      ],
      "execution_count": 8,
      "outputs": [
        {
          "output_type": "execute_result",
          "data": {
            "text/plain": [
              "13.406317300789663"
            ]
          },
          "metadata": {
            "tags": []
          },
          "execution_count": 8
        }
      ]
    },
    {
      "metadata": {
        "id": "Wm_skJbfYcmq",
        "colab_type": "text"
      },
      "cell_type": "markdown",
      "source": [
        "### Question 2\n",
        "\n",
        "Fit the training data `X_train` using a Count Vectorizer with default parameters.\n",
        "\n",
        "What is the longest token in the vocabulary?\n",
        "\n",
        "*This function should return a string.*"
      ]
    },
    {
      "metadata": {
        "id": "Uwa6kpiBYcms",
        "colab_type": "code",
        "colab": {}
      },
      "cell_type": "code",
      "source": [
        "from sklearn.feature_extraction.text import CountVectorizer\n",
        "\n",
        "def answer_two():\n",
        "    \n",
        "    vect = CountVectorizer().fit(X_train)\n",
        "    vocab = vect.get_feature_names()\n",
        "    m = 0\n",
        "    for f in vocab:\n",
        "        if m < len(f):\n",
        "            m = len(f)\n",
        "            k = f\n",
        "            \n",
        "    return k"
      ],
      "execution_count": 0,
      "outputs": []
    },
    {
      "metadata": {
        "id": "gSs7-uO0Ycmy",
        "colab_type": "code",
        "colab": {
          "base_uri": "https://localhost:8080/",
          "height": 34
        },
        "outputId": "ed568be1-afd9-4247-ae38-e1f54b12b49e"
      },
      "cell_type": "code",
      "source": [
        "answer_two()"
      ],
      "execution_count": 10,
      "outputs": [
        {
          "output_type": "execute_result",
          "data": {
            "text/plain": [
              "'com1win150ppmx3age16subscription'"
            ]
          },
          "metadata": {
            "tags": []
          },
          "execution_count": 10
        }
      ]
    },
    {
      "metadata": {
        "id": "MmM3n7s9Ycm7",
        "colab_type": "text"
      },
      "cell_type": "markdown",
      "source": [
        "### Question 3\n",
        "\n",
        "Fit and transform the training data `X_train` using a Count Vectorizer with default parameters.\n",
        "\n",
        "Next, fit a fit a multinomial Naive Bayes classifier model with smoothing `alpha=0.1`. Find the area under the curve (AUC) score using the transformed test data.\n",
        "\n",
        "*This function should return the AUC score as a float.*"
      ]
    },
    {
      "metadata": {
        "id": "CgHvX0r4YcnA",
        "colab_type": "code",
        "colab": {}
      },
      "cell_type": "code",
      "source": [
        "from sklearn.naive_bayes import MultinomialNB\n",
        "from sklearn.metrics import roc_auc_score\n",
        "\n",
        "def answer_three():\n",
        "    vect = CountVectorizer().fit(X_train)\n",
        "    \n",
        "    model = MultinomialNB(0.1)\n",
        "    model.fit(vect.transform(X_train), y_train)   \n",
        "    \n",
        "    return roc_auc_score(y_test, model.predict(vect.transform(X_test)))"
      ],
      "execution_count": 0,
      "outputs": []
    },
    {
      "metadata": {
        "id": "rtB4zlCKYcnJ",
        "colab_type": "code",
        "colab": {
          "base_uri": "https://localhost:8080/",
          "height": 34
        },
        "outputId": "e412094f-d314-4715-ce8e-b7078bc2742e"
      },
      "cell_type": "code",
      "source": [
        "answer_three()"
      ],
      "execution_count": 184,
      "outputs": [
        {
          "output_type": "execute_result",
          "data": {
            "text/plain": [
              "0.9581366823421557"
            ]
          },
          "metadata": {
            "tags": []
          },
          "execution_count": 184
        }
      ]
    },
    {
      "metadata": {
        "id": "vOBJrdFuYcnR",
        "colab_type": "text"
      },
      "cell_type": "markdown",
      "source": [
        "### Question 4\n",
        "\n",
        "Fit and transform the training data `X_train` using a Tfidf Vectorizer with default parameters.\n",
        "\n",
        "What 20 features have the smallest tf-idf and what 20 have the largest tf-idf?\n",
        "\n",
        "Put these features in a two series where each series is sorted by tf-idf value and then alphabetically by feature name. The index of the series should be the feature name, and the data should be the tf-idf.\n",
        "\n",
        "The series of 20 features with smallest tf-idfs should be sorted smallest tfidf first, the list of 20 features with largest tf-idfs should be sorted largest first. \n",
        "\n",
        "*This function should return a tuple of two series\n",
        "`(smallest tf-idfs series, largest tf-idfs series)`.*"
      ]
    },
    {
      "metadata": {
        "id": "zTjjj6pVYcnU",
        "colab_type": "code",
        "colab": {}
      },
      "cell_type": "code",
      "source": [
        "from sklearn.feature_extraction.text import TfidfVectorizer\n",
        "\n",
        "def answer_four():\n",
        "    import operator\n",
        "\n",
        "    vect = TfidfVectorizer()\n",
        "    X_train_transformed = vect.fit_transform(X_train)\n",
        "\n",
        "    feature_names = vect.get_feature_names()\n",
        "    idfs = vect.idf_\n",
        "    names_idfs = list(zip(feature_names, idfs))\n",
        "\n",
        "    smallest = sorted(names_idfs, key=operator.itemgetter(1))[:20]\n",
        "    smallest = pd.Series([features[1] for features in smallest], index=[features[0] for features in smallest])\n",
        "\n",
        "    largest = sorted(names_idfs, key=operator.itemgetter(1), reverse=True)[:20]\n",
        "    largest = pd.Series([features[1] for features in largest], index=[features[0] for features in largest])\n",
        "    \n",
        "    return (smallest, largest)"
      ],
      "execution_count": 0,
      "outputs": []
    },
    {
      "metadata": {
        "id": "dKV8XCw4Ycnc",
        "colab_type": "code",
        "colab": {
          "base_uri": "https://localhost:8080/",
          "height": 714
        },
        "outputId": "a13ce23f-c60c-43f5-f44c-6f173295c111"
      },
      "cell_type": "code",
      "source": [
        "answer_four()"
      ],
      "execution_count": 14,
      "outputs": [
        {
          "output_type": "execute_result",
          "data": {
            "text/plain": [
              "(to      2.198406\n",
              " you     2.265645\n",
              " the     2.707383\n",
              " in      2.890761\n",
              " and     2.976764\n",
              " is      3.003012\n",
              " me      3.111530\n",
              " for     3.206840\n",
              " it      3.222174\n",
              " my      3.231044\n",
              " call    3.297812\n",
              " your    3.300196\n",
              " of      3.319473\n",
              " have    3.354130\n",
              " that    3.408477\n",
              " on      3.463136\n",
              " now     3.465949\n",
              " can     3.545053\n",
              " are     3.560414\n",
              " so      3.566625\n",
              " dtype: float64, 000pes         8.644919\n",
              " 0089           8.644919\n",
              " 0121           8.644919\n",
              " 01223585236    8.644919\n",
              " 0125698789     8.644919\n",
              " 02072069400    8.644919\n",
              " 02073162414    8.644919\n",
              " 02085076972    8.644919\n",
              " 021            8.644919\n",
              " 0430           8.644919\n",
              " 07008009200    8.644919\n",
              " 07099833605    8.644919\n",
              " 07123456789    8.644919\n",
              " 0721072        8.644919\n",
              " 07753741225    8.644919\n",
              " 077xxx         8.644919\n",
              " 078            8.644919\n",
              " 07808247860    8.644919\n",
              " 07808726822    8.644919\n",
              " 078498         8.644919\n",
              " dtype: float64)"
            ]
          },
          "metadata": {
            "tags": []
          },
          "execution_count": 14
        }
      ]
    },
    {
      "metadata": {
        "id": "TGwoj4vrYcnl",
        "colab_type": "text"
      },
      "cell_type": "markdown",
      "source": [
        "### Question 5\n",
        "\n",
        "Fit and transform the training data `X_train` using a Tfidf Vectorizer ignoring terms that have a document frequency strictly lower than **3**.\n",
        "\n",
        "Then fit a multinomial Naive Bayes classifier model with smoothing `alpha=0.1` and compute the area under the curve (AUC) score using the transformed test data.\n",
        "\n",
        "*This function should return the AUC score as a float.*"
      ]
    },
    {
      "metadata": {
        "id": "FEJX6QkNYcnm",
        "colab_type": "code",
        "colab": {}
      },
      "cell_type": "code",
      "source": [
        "def answer_five():\n",
        "    \n",
        "    vect = TfidfVectorizer(min_df=3).fit(X_train)\n",
        "    \n",
        "    X_train_vectorized = vect.transform(X_train)\n",
        "    \n",
        "    model = MultinomialNB(alpha=0.1)\n",
        "    model.fit(X_train_vectorized, y_train)\n",
        "    \n",
        "    predictions = model.predict(vect.transform(X_test))    \n",
        "    \n",
        "    return roc_auc_score(y_test, predictions)"
      ],
      "execution_count": 0,
      "outputs": []
    },
    {
      "metadata": {
        "id": "qc0D_ZdJYcns",
        "colab_type": "code",
        "colab": {
          "base_uri": "https://localhost:8080/",
          "height": 34
        },
        "outputId": "2e119685-df49-49db-882b-a029c99ed892"
      },
      "cell_type": "code",
      "source": [
        "answer_five()"
      ],
      "execution_count": 18,
      "outputs": [
        {
          "output_type": "execute_result",
          "data": {
            "text/plain": [
              "0.9416243654822335"
            ]
          },
          "metadata": {
            "tags": []
          },
          "execution_count": 18
        }
      ]
    },
    {
      "metadata": {
        "id": "0hYIUbCTYcnx",
        "colab_type": "text"
      },
      "cell_type": "markdown",
      "source": [
        "### Question 6\n",
        "\n",
        "What is the average length of documents (number of characters) for not spam and spam documents?\n",
        "\n",
        "*This function should return a tuple (average length not spam, average length spam).*"
      ]
    },
    {
      "metadata": {
        "id": "8S1ZRmFlYcny",
        "colab_type": "code",
        "colab": {}
      },
      "cell_type": "code",
      "source": [
        "def answer_six():\n",
        "    \n",
        "   spam_data['length'] = spam_data['text'].str.len() \n",
        "    \n",
        "   return (np.mean(spam_data['length'][spam_data['target'] == 0]), np.mean(spam_data['length'][spam_data['target'] == 1]))"
      ],
      "execution_count": 0,
      "outputs": []
    },
    {
      "metadata": {
        "id": "bh0lbNTnYcn3",
        "colab_type": "code",
        "colab": {
          "base_uri": "https://localhost:8080/",
          "height": 34
        },
        "outputId": "bac8fcf2-a07d-45e1-a288-420d97971fc2"
      },
      "cell_type": "code",
      "source": [
        "answer_six()"
      ],
      "execution_count": 111,
      "outputs": [
        {
          "output_type": "execute_result",
          "data": {
            "text/plain": [
              "(71.02362694300518, 138.8661311914324)"
            ]
          },
          "metadata": {
            "tags": []
          },
          "execution_count": 111
        }
      ]
    },
    {
      "metadata": {
        "id": "wk9-WvcqYcn8",
        "colab_type": "text"
      },
      "cell_type": "markdown",
      "source": [
        "<br>\n",
        "<br>\n",
        "The following function has been provided to help you combine new features into the training data:"
      ]
    },
    {
      "metadata": {
        "id": "EHAdES1xYcn_",
        "colab_type": "code",
        "colab": {}
      },
      "cell_type": "code",
      "source": [
        "def add_feature(X, feature_to_add):\n",
        "    \"\"\"\n",
        "    Returns sparse feature matrix with added feature.\n",
        "    feature_to_add can also be a list of features.\n",
        "    \"\"\"\n",
        "    from scipy.sparse import csr_matrix, hstack\n",
        "    return hstack([X, csr_matrix(feature_to_add).T], 'csr')"
      ],
      "execution_count": 0,
      "outputs": []
    },
    {
      "metadata": {
        "id": "yzfY3abhYcoK",
        "colab_type": "text"
      },
      "cell_type": "markdown",
      "source": [
        "### Question 7\n",
        "\n",
        "Fit and transform the training data X_train using a Tfidf Vectorizer ignoring terms that have a document frequency strictly lower than **5**.\n",
        "\n",
        "Using this document-term matrix and an additional feature, **the length of document (number of characters)**, fit a Support Vector Classification model with regularization `C=10000`. Then compute the area under the curve (AUC) score using the transformed test data.\n",
        "\n",
        "*This function should return the AUC score as a float.*"
      ]
    },
    {
      "metadata": {
        "id": "cudWpAKMYcoO",
        "colab_type": "code",
        "colab": {}
      },
      "cell_type": "code",
      "source": [
        "from sklearn.svm import SVC\n",
        "\n",
        "def answer_seven():\n",
        "  \n",
        "    vect = TfidfVectorizer(min_df=5).fit(X_train)\n",
        "    \n",
        "    X_train_vectorized = vect.transform(X_train)\n",
        "\n",
        "    model = SVC(kernel='linear', C=10000)\n",
        "    model.fit(add_feature(X_train_vectorized, X_train.str.len()), y_train)\n",
        "\n",
        "    predictions = model.predict(add_feature(vect.transform(X_test), X_test.str.len()))\n",
        "\n",
        "    return roc_auc_score(y_test, predictions)\n",
        "    "
      ],
      "execution_count": 0,
      "outputs": []
    },
    {
      "metadata": {
        "id": "AXPJ0KbZYcoV",
        "colab_type": "code",
        "colab": {
          "base_uri": "https://localhost:8080/",
          "height": 34
        },
        "outputId": "f6da03e5-0c75-4784-e7ad-21dba1808982"
      },
      "cell_type": "code",
      "source": [
        "answer_seven()"
      ],
      "execution_count": 113,
      "outputs": [
        {
          "output_type": "execute_result",
          "data": {
            "text/plain": [
              "0.9522838395327912"
            ]
          },
          "metadata": {
            "tags": []
          },
          "execution_count": 113
        }
      ]
    },
    {
      "metadata": {
        "id": "tLfVl4nnYcoa",
        "colab_type": "text"
      },
      "cell_type": "markdown",
      "source": [
        "### Question 8\n",
        "\n",
        "What is the average number of digits per document for not spam and spam documents?\n",
        "\n",
        "*This function should return a tuple (average # digits not spam, average # digits spam).*"
      ]
    },
    {
      "metadata": {
        "id": "OwfYu2ZCYcob",
        "colab_type": "code",
        "colab": {}
      },
      "cell_type": "code",
      "source": [
        "def answer_eight():\n",
        "    \n",
        "    spam_data['digit_length'] = spam_data['text'].str.findall(r'\\d').str.len()\n",
        "    \n",
        "    return (np.mean(spam_data['digit_length'][spam_data['target']==0]),\n",
        "           np.mean(spam_data['digit_length'][spam_data['target']==1]))"
      ],
      "execution_count": 0,
      "outputs": []
    },
    {
      "metadata": {
        "id": "dvc0zUiuYcog",
        "colab_type": "code",
        "colab": {
          "base_uri": "https://localhost:8080/",
          "height": 34
        },
        "outputId": "ce124593-e94a-499a-8a00-a4438ea43d3d"
      },
      "cell_type": "code",
      "source": [
        "answer_eight()"
      ],
      "execution_count": 141,
      "outputs": [
        {
          "output_type": "execute_result",
          "data": {
            "text/plain": [
              "(0.2992746113989637, 15.759036144578314)"
            ]
          },
          "metadata": {
            "tags": []
          },
          "execution_count": 141
        }
      ]
    },
    {
      "metadata": {
        "id": "HHUrKcnrYcon",
        "colab_type": "text"
      },
      "cell_type": "markdown",
      "source": [
        "### Question 9\n",
        "\n",
        "Fit and transform the training data `X_train` using a Tfidf Vectorizer ignoring terms that have a document frequency strictly lower than **5** and using **word n-grams from n=1 to n=3** (unigrams, bigrams, and trigrams).\n",
        "\n",
        "Using this document-term matrix and the following additional features:\n",
        "* the length of document (number of characters)\n",
        "* **number of digits per document**\n",
        "\n",
        "fit a Logistic Regression model with regularization `C=100`. Then compute the area under the curve (AUC) score using the transformed test data.\n",
        "\n",
        "*This function should return the AUC score as a float.*"
      ]
    },
    {
      "metadata": {
        "id": "S3YSmo_3Ycoo",
        "colab_type": "code",
        "colab": {}
      },
      "cell_type": "code",
      "source": [
        "from sklearn.linear_model import LogisticRegression\n",
        "\n",
        "def answer_nine():\n",
        "  \n",
        "  vect = TfidfVectorizer(ngram_range=(1,3), min_df=5).fit(X_train)\n",
        "  \n",
        "  X_train_vectorized_with_extra_features = add_feature(vect.transform(X_train),\n",
        "                                                       [X_train.str.len(), X_train.str.findall(r'\\d').str.len()])\n",
        "  \n",
        "  X_test_vectorized_with_extra_features = add_feature(vect.transform(X_test),\n",
        "                                                     [X_test.str.len(), X_test.str.findall(r'\\d').str.len()])\n",
        "  \n",
        "  \n",
        "  model = LogisticRegression(C=100).fit(X_train_vectorized_with_extra_features, y_train)\n",
        "  \n",
        "  predictions = model.predict(X_test_vectorized_with_extra_features)\n",
        "    \n",
        "    \n",
        "  return roc_auc_score(y_test, predictions)"
      ],
      "execution_count": 0,
      "outputs": []
    },
    {
      "metadata": {
        "id": "oNP5YmW5Ycot",
        "colab_type": "code",
        "colab": {
          "base_uri": "https://localhost:8080/",
          "height": 88
        },
        "outputId": "8125b36a-cdd1-43a6-ca8a-068dcfaf59ad"
      },
      "cell_type": "code",
      "source": [
        "answer_nine()"
      ],
      "execution_count": 135,
      "outputs": [
        {
          "output_type": "stream",
          "text": [
            "/usr/local/lib/python3.6/dist-packages/sklearn/linear_model/logistic.py:433: FutureWarning: Default solver will be changed to 'lbfgs' in 0.22. Specify a solver to silence this warning.\n",
            "  FutureWarning)\n"
          ],
          "name": "stderr"
        },
        {
          "output_type": "execute_result",
          "data": {
            "text/plain": [
              "0.9653328353394565"
            ]
          },
          "metadata": {
            "tags": []
          },
          "execution_count": 135
        }
      ]
    },
    {
      "metadata": {
        "id": "3XJ6wv8gYco1",
        "colab_type": "text"
      },
      "cell_type": "markdown",
      "source": [
        "### Question 10\n",
        "\n",
        "What is the average number of non-word characters (anything other than a letter, digit or underscore) per document for not spam and spam documents?\n",
        "\n",
        "*Hint: Use `\\w` and `\\W` character classes*\n",
        "\n",
        "*This function should return a tuple (average # non-word characters not spam, average # non-word characters spam).*"
      ]
    },
    {
      "metadata": {
        "id": "hoOd7-kcYco3",
        "colab_type": "code",
        "colab": {}
      },
      "cell_type": "code",
      "source": [
        "def answer_ten():\n",
        "    \n",
        "    spam_data['non_words'] = spam_data['text'].str.findall('[\\W]').str.len()\n",
        "    \n",
        "    return (np.mean(spam_data['non_words'][spam_data['target']==0]),\n",
        "           np.mean(spam_data['non_words'][spam_data['target']==1]))"
      ],
      "execution_count": 0,
      "outputs": []
    },
    {
      "metadata": {
        "id": "eiAPoE0LYcpB",
        "colab_type": "code",
        "colab": {
          "base_uri": "https://localhost:8080/",
          "height": 34
        },
        "outputId": "6fdb55b9-9e76-4789-8ab7-c9178a98b48f"
      },
      "cell_type": "code",
      "source": [
        "answer_ten()"
      ],
      "execution_count": 153,
      "outputs": [
        {
          "output_type": "execute_result",
          "data": {
            "text/plain": [
              "(17.29181347150259, 29.041499330655956)"
            ]
          },
          "metadata": {
            "tags": []
          },
          "execution_count": 153
        }
      ]
    },
    {
      "metadata": {
        "id": "0uDwTqk4YcpG",
        "colab_type": "text"
      },
      "cell_type": "markdown",
      "source": [
        "### Question 11\n",
        "\n",
        "Fit and transform the training data X_train using a Count Vectorizer ignoring terms that have a document frequency strictly lower than **5** and using **character n-grams from n=2 to n=5.**\n",
        "\n",
        "To tell Count Vectorizer to use character n-grams pass in `analyzer='char_wb'` which creates character n-grams only from text inside word boundaries. This should make the model more robust to spelling mistakes.\n",
        "\n",
        "Using this document-term matrix and the following additional features:\n",
        "* the length of document (number of characters)\n",
        "* number of digits per document\n",
        "* **number of non-word characters (anything other than a letter, digit or underscore.)**\n",
        "\n",
        "fit a Logistic Regression model with regularization C=100. Then compute the area under the curve (AUC) score using the transformed test data.\n",
        "\n",
        "Also **find the 10 smallest and 10 largest coefficients from the model** and return them along with the AUC score in a tuple.\n",
        "\n",
        "The list of 10 smallest coefficients should be sorted smallest first, the list of 10 largest coefficients should be sorted largest first.\n",
        "\n",
        "The three features that were added to the document term matrix should have the following names should they appear in the list of coefficients:\n",
        "['length_of_doc', 'digit_count', 'non_word_char_count']\n",
        "\n",
        "*This function should return a tuple `(AUC score as a float, smallest coefs list, largest coefs list)`.*"
      ]
    },
    {
      "metadata": {
        "id": "Il08ooYaYcpH",
        "colab_type": "code",
        "colab": {}
      },
      "cell_type": "code",
      "source": [
        "def answer_eleven():\n",
        "  \n",
        "  vect = CountVectorizer(min_df=5, analyzer='char_wb', ngram_range=(2,5)).fit(X_train)\n",
        "  \n",
        "  # regex: \\d - for all digits, \\W - for all non-words\n",
        "  X_train_vect_with_extra_features = add_feature(vect.transform(X_train),\n",
        "                                                [X_train.str.len(),                                                 \n",
        "                                                 X_train.str.findall('\\d').str.len(),\n",
        "                                                 X_train.str.findall('\\W').str.len()])\n",
        "  \n",
        "  X_test_vect_with_extra_features = add_feature(vect.transform(X_test),\n",
        "                                                [X_test.str.len(),                                                 \n",
        "                                                 X_test.str.findall('\\d').str.len(),\n",
        "                                                 X_test.str.findall('\\W').str.len()])\n",
        "  \n",
        "  model = LogisticRegression(C=100).fit(X_train_vect_with_extra_features, y_train)\n",
        "  \n",
        "  predictions = model.predict(X_test_vect_with_extra_features)\n",
        "  \n",
        "  auc_score = roc_auc_score(y_test, predictions)\n",
        "  \n",
        "  #coefficient extraction\n",
        "  feature_names = np.array(vect.get_feature_names() + ['length_of_doc', 'digit_count', 'non_word_char_count'])\n",
        "  sorted_coeffs_indices = model.coef_[0].argsort() #argsort: returns ascending ordered indices of given list\n",
        "  \n",
        "  smallest = feature_names[sorted_coeffs_indices[:10]]\n",
        "  largest = feature_names[sorted_coeffs_indices[:-11:-1]] #-1 step argument,which reverses the order of array, -11 returns last 10 items from the array\n",
        "    \n",
        "    \n",
        "  return (auc_score, list(smallest), list(largest))"
      ],
      "execution_count": 0,
      "outputs": []
    },
    {
      "metadata": {
        "id": "goalgi3VYcpP",
        "colab_type": "code",
        "colab": {
          "base_uri": "https://localhost:8080/",
          "height": 122
        },
        "outputId": "b89cc1aa-fc04-478b-85c7-b85f800a1fea"
      },
      "cell_type": "code",
      "source": [
        "answer_eleven()"
      ],
      "execution_count": 216,
      "outputs": [
        {
          "output_type": "stream",
          "text": [
            "/usr/local/lib/python3.6/dist-packages/sklearn/linear_model/logistic.py:433: FutureWarning: Default solver will be changed to 'lbfgs' in 0.22. Specify a solver to silence this warning.\n",
            "  FutureWarning)\n"
          ],
          "name": "stderr"
        },
        {
          "output_type": "execute_result",
          "data": {
            "text/plain": [
              "(0.9788593110707434,\n",
              " ['. ', '..', '? ', ' i', ' y', ' go', ':)', ' h', 'go', ' m'],\n",
              " ['digit_count', 'ne', 'ia', 'co', 'xt', ' ch', 'mob', ' x', 'ww', 'ar'])"
            ]
          },
          "metadata": {
            "tags": []
          },
          "execution_count": 216
        }
      ]
    },
    {
      "metadata": {
        "id": "E3KciqDyFZIy",
        "colab_type": "code",
        "colab": {}
      },
      "cell_type": "code",
      "source": [
        ""
      ],
      "execution_count": 0,
      "outputs": []
    }
  ]
}