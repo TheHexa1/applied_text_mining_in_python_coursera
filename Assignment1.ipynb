{
  "nbformat": 4,
  "nbformat_minor": 0,
  "metadata": {
    "colab": {
      "name": "applied_text_mining_coursera_Assignment1.ipynb",
      "version": "0.3.2",
      "provenance": [],
      "collapsed_sections": []
    },
    "kernelspec": {
      "display_name": "Python 3",
      "language": "python",
      "name": "python3"
    }
  },
  "cells": [
    {
      "metadata": {
        "id": "9h-cnFW9wa2t",
        "colab_type": "text"
      },
      "cell_type": "markdown",
      "source": [
        "---\n",
        "\n",
        "_You are currently looking at **version 1.1** of this notebook. To download notebooks and datafiles, as well as get help on Jupyter notebooks in the Coursera platform, visit the [Jupyter Notebook FAQ](https://www.coursera.org/learn/python-text-mining/resources/d9pwm) course resource._\n",
        "\n",
        "---"
      ]
    },
    {
      "metadata": {
        "id": "LHBDIvMdwa2z",
        "colab_type": "text"
      },
      "cell_type": "markdown",
      "source": [
        "# Assignment 1\n",
        "\n",
        "In this assignment, you'll be working with messy medical data and using regex to extract relevant infromation from the data. \n",
        "\n",
        "Each line of the `dates.txt` file corresponds to a medical note. Each note has a date that needs to be extracted, but each date is encoded in one of many formats.\n",
        "\n",
        "The goal of this assignment is to correctly identify all of the different date variants encoded in this dataset and to properly normalize and sort the dates. \n",
        "\n",
        "Here is a list of some of the variants you might encounter in this dataset:\n",
        "* 04/20/2009; 04/20/09; 4/20/09; 4/3/09\n",
        "* Mar-20-2009; Mar 20, 2009; March 20, 2009;  Mar. 20, 2009; Mar 20 2009;\n",
        "* 20 Mar 2009; 20 March 2009; 20 Mar. 2009; 20 March, 2009\n",
        "* Mar 20th, 2009; Mar 21st, 2009; Mar 22nd, 2009\n",
        "* Feb 2009; Sep 2009; Oct 2010\n",
        "* 6/2008; 12/2009\n",
        "* 2009; 2010\n",
        "\n",
        "Once you have extracted these date patterns from the text, the next step is to sort them in ascending chronological order accoring to the following rules:\n",
        "* Assume all dates in xx/xx/xx format are mm/dd/yy\n",
        "* Assume all dates where year is encoded in only two digits are years from the 1900's (e.g. 1/5/89 is January 5th, 1989)\n",
        "* If the day is missing (e.g. 9/2009), assume it is the first day of the month (e.g. September 1, 2009).\n",
        "* If the month is missing (e.g. 2010), assume it is the first of January of that year (e.g. January 1, 2010).\n",
        "* Watch out for potential typos as this is a raw, real-life derived dataset.\n",
        "\n",
        "With these rules in mind, find the correct date in each note and return a pandas Series in chronological order of the original Series' indices.\n",
        "\n",
        "For example if the original series was this:\n",
        "\n",
        "    0    1999\n",
        "    1    2010\n",
        "    2    1978\n",
        "    3    2015\n",
        "    4    1985\n",
        "\n",
        "Your function should return this:\n",
        "\n",
        "    0    2\n",
        "    1    4\n",
        "    2    0\n",
        "    3    1\n",
        "    4    3\n",
        "\n",
        "Your score will be calculated using [Kendall's tau](https://en.wikipedia.org/wiki/Kendall_rank_correlation_coefficient), a correlation measure for ordinal data.\n",
        "\n",
        "*This function should return a Series of length 500 and dtype int.*"
      ]
    },
    {
      "metadata": {
        "id": "8DwBdYDLwa22",
        "colab_type": "code",
        "colab": {}
      },
      "cell_type": "code",
      "source": [
        "import pandas as pd\n",
        "\n",
        "doc = []\n",
        "with open('dates.txt') as file:\n",
        "    for line in file:\n",
        "        doc.append(line)\n",
        "\n",
        "df = pd.Series(doc)\n",
        "df.head(10)"
      ],
      "execution_count": 0,
      "outputs": []
    },
    {
      "metadata": {
        "id": "WLM64E2Awa3A",
        "colab_type": "code",
        "colab": {}
      },
      "cell_type": "code",
      "source": [
        "def date_sorter():\n",
        "    #answer code\n",
        "    df1 = df.str.extract(\n",
        "        '((?:\\d{1,2}[/, -])?(?:(?:Jan|Feb|Mar|Apr|May|Jun|Jul|Aug|Sep|Oct|Nov|Dec)[a-z]*[/,.-]? )?(?:\\d{1,2})(?:st|nd|rd|th)?[/,-]? ?\\d{2,4})'\n",
        "        )\n",
        "\n",
        "    def month_converter(month):\n",
        "        months = ['Jan', 'Feb', 'Mar', 'Apr', 'May', 'Jun', 'Jul', 'Aug', 'Sep', 'Oct', 'Nov', 'Dec']\n",
        "        return months.index(month[:3]) + 1\n",
        "\n",
        "    for n in range(len(df1)):   \n",
        "        t = df1[n]\n",
        "        if(re.search(r'\\d{1,2}/\\d{1,2}/\\d{2}', df1[n]) and len(df1[n])<9):        \n",
        "            i = t.rfind('/')\n",
        "            df1[n] = df1[n].replace(t[i+1:],'19'+t[i+1:])\n",
        "        elif(re.search(r'\\d{1,2}-\\d{1,2}-\\d{2}', df1[n]) and len(df1[n])<9):        \n",
        "            i = t.rfind('-')\n",
        "            df1[n] = df1[n].replace(t[i+1:],'19'+t[i+1]+t[i+2])\n",
        "            df1[n] = df1[n].replace('-','/')\n",
        "        elif(re.search(r'\\d{1,2} (?:Jan|Feb|Mar|Apr|May|Jun|Jul|Aug|Sep|Oct|Nov|Dec)[a-z]* \\d{4}', df1[n])):\n",
        "            t = df1[n].replace(' ','/')\n",
        "            i1 = t.find('/')\n",
        "            i2 = t.rfind('/')       \n",
        "            df1[n] = str(month_converter(t[i1+1:i2])) + '/' + t[:i1] + '/' + t[i2+1:]\n",
        "        elif(re.search(r'(?:Jan|Feb|Mar|Apr|May|Jun|Jul|Aug|Sep|Oct|Nov|Dec)[a-z]*.? \\d{1,2},? \\d{4}', df1[n])):\n",
        "            t = df1[n].replace(' ','/')\n",
        "            t = t.replace(',','')\n",
        "            i1 = t.find('/')\n",
        "            i2 = t.rfind('/')       \n",
        "            df1[n] = str(month_converter(t[:i1])) + '/' + t[i1+1:i2] + '/' + t[i2+1:]    \n",
        "        elif(re.search(r'(?:Jan|Feb|Mar|Apr|May|Jun|Jul|Aug|Sep|Oct|Nov|Dec)[a-z]*,? \\d{4}', df1[n])):\n",
        "            t = df1[n].replace(' ','/')\n",
        "            t = t.replace(',','')\n",
        "            t = t.replace('.','')\n",
        "            i1 = t.find('/') \n",
        "            df1[n] = str(month_converter(t[:i1])) + '/01/' + t[i1+1:]        \n",
        "        elif(re.search(r'(?:\\d{1,2}/)?\\d{4}', df1[n])):\n",
        "            i1 = t.find('/')        \n",
        "            if len(df1[n])==4:\n",
        "                df1[n] = '01/01/' + t[i1+1:]\n",
        "            elif len(df1[n])<=7:\n",
        "                df1[n] = t[:i1] + '/01/' + t[i1+1:]\n",
        "            else:\n",
        "                df1[n] = '01/12/2019'\n",
        "        else:\n",
        "            df1[n] = '01/12/2019'\n",
        "\n",
        "    dframe = df1.to_frame(name='date')\n",
        "    dframe['date'] = pd.to_datetime(dframe.date)\n",
        "    dframe = dframe.sort_values(by='date')    \n",
        "    return pd.Series(dframe.index)"
      ],
      "execution_count": 0,
      "outputs": []
    },
    {
      "metadata": {
        "id": "0WO1DPWGwfdi",
        "colab_type": "code",
        "colab": {}
      },
      "cell_type": "code",
      "source": [
        "#full regex divided in multiple regex -- just for reference\n",
        "df1 = df.str.extract('(\\d{1,2}[/ -,.]\\d{1,2}[/ -,.]\\d{2,4})')\n",
        "print(len(df1.dropna()))\n",
        "df2 = df.str.extract('((?:Jan|Feb|Mar|Apr|May|Jun|Jul|Aug|Sep|Oct|Nov|Dec)[a-z]*[.,/]? \\d{1,2}[.,/]? \\d{2,4})')\n",
        "# print(df2[100:200])\n",
        "print(len(df2.dropna()))\n",
        "df3 = df.str.extract('((Jan|Feb|Mar|Apr|May|Jun|Jul|Aug|Sep|Oct|Nov|Dec)[a-z]*\\-\\d{1,2}\\-\\d{2,4})')\n",
        "print(len(df3.dropna()))\n",
        "df3a = df.str.extract('(\\d{1,2} (Jan|Feb|Mar|Apr|May|Jun|Jul|Aug|Sep|Oct|Nov|Dec)[a-z]*[.,/]? \\d{2,4})')\n",
        "print(len(df3a.dropna()))\n",
        "df4 = df.str.extract('((?:Jan|Feb|Mar|Apr|May|Jun|Jul|Aug|Sep|Oct|Nov|Dec)[a-z]*[.,/]? \\d{1,2}(?:st|nd|rd|th), \\d{2,4})')\n",
        "# print(df4[200:300])\n",
        "print(len(df4.dropna()))\n",
        "df5 = df.str.extract('((?:Jan|Feb|Mar|Apr|May|Jun|Jul|Aug|Sep|Oct|Nov|Dec)[a-z]* \\d{2,4})')\n",
        "print(len(df5.dropna()))\n",
        "df6 = df.str.extract('(\\d{1,2}/\\d{2,4})')\n",
        "print(len(df6.dropna()))\n",
        "df7 = df.str.extract('(\\d{2,4})')\n",
        "print(len(df7.dropna()))\n"
      ],
      "execution_count": 0,
      "outputs": []
    },
    {
      "metadata": {
        "id": "qsgwdc26O2t5",
        "colab_type": "code",
        "colab": {}
      },
      "cell_type": "code",
      "source": [
        ""
      ],
      "execution_count": 0,
      "outputs": []
    }
  ]
}